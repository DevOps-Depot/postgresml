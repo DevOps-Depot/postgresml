{
 "cells": [
  {
   "cell_type": "code",
   "execution_count": 41,
   "metadata": {},
   "outputs": [],
   "source": [
    "from datasets import load_dataset\n",
    "from pgml import Database\n",
    "import os\n",
    "import asyncio\n",
    "from dotenv import load_dotenv\n",
    "from time import time\n",
    "from rich.pretty import pprint"
   ]
  },
  {
   "cell_type": "code",
   "execution_count": 10,
   "metadata": {},
   "outputs": [],
   "source": [
    "load_dotenv()"
   ]
  },
  {
   "cell_type": "code",
   "execution_count": 5,
   "metadata": {},
   "outputs": [],
   "source": [
    "local_pgml = \"postgres://postgres@127.0.0.1:5433/pgml_development\"\n",
    "conninfo = os.environ.get(\"PGML_CONNECTION\", local_pgml)"
   ]
  },
  {
   "cell_type": "code",
   "execution_count": 6,
   "metadata": {},
   "outputs": [
    {
     "name": "stderr",
     "output_type": "stream",
     "text": [
      "Found cached dataset quora (/Users/santis/.cache/huggingface/datasets/quora/default/0.0.0/36ba4cd42107f051a158016f1bea6ae3f4685c5df843529108a54e42d86c1e04)\n"
     ]
    }
   ],
   "source": [
    "# Prepare Data\n",
    "dataset = load_dataset(\"quora\", split=\"train\")\n",
    "questions = []\n",
    "\n",
    "for record in dataset[\"questions\"]:\n",
    "    questions.extend(record[\"text\"])\n",
    "\n",
    "# remove duplicates\n",
    "documents = []\n",
    "for question in list(set(questions)):\n",
    "    if question:\n",
    "        documents.append({\"text\": question})"
   ]
  },
  {
   "cell_type": "code",
   "execution_count": 7,
   "metadata": {},
   "outputs": [],
   "source": [
    "db = Database(conninfo)\n",
    "collection_name = \"quora_collection\"\n",
    "collection = await db.create_or_get_collection(collection_name)"
   ]
  },
  {
   "cell_type": "code",
   "execution_count": 11,
   "metadata": {},
   "outputs": [
    {
     "data": {
      "text/html": [
       "<pre style=\"white-space:pre;overflow-x:auto;line-height:normal;font-family:Menlo,'DejaVu Sans Mono',consolas,'Courier New',monospace\">Upserting documents ..\n",
       "</pre>\n"
      ],
      "text/plain": [
       "Upserting documents ..\n"
      ]
     },
     "metadata": {},
     "output_type": "display_data"
    },
    {
     "data": {
      "text/html": [
       "<pre style=\"white-space:pre;overflow-x:auto;line-height:normal;font-family:Menlo,'DejaVu Sans Mono',consolas,'Courier New',monospace\">Generating chunks ..\n",
       "</pre>\n"
      ],
      "text/plain": [
       "Generating chunks ..\n"
      ]
     },
     "metadata": {},
     "output_type": "display_data"
    },
    {
     "data": {
      "text/html": [
       "<pre style=\"white-space:pre;overflow-x:auto;line-height:normal;font-family:Menlo,'DejaVu Sans Mono',consolas,'Courier New',monospace\">Generating embeddings ..\n",
       "</pre>\n"
      ],
      "text/plain": [
       "Generating embeddings ..\n"
      ]
     },
     "metadata": {},
     "output_type": "display_data"
    }
   ],
   "source": [
    "# Upsert documents, chunk text, and generate embeddings\n",
    "await collection.upsert_documents(documents[:200])\n",
    "await collection.generate_chunks()\n",
    "await collection.generate_embeddings()"
   ]
  },
  {
   "cell_type": "code",
   "execution_count": 43,
   "metadata": {},
   "outputs": [
    {
     "data": {
      "text/html": [
       "<pre style=\"white-space:pre;overflow-x:auto;line-height:normal;font-family:Menlo,'DejaVu Sans Mono',consolas,'Courier New',monospace\"><span style=\"font-weight: bold\">[</span>\n",
       "<span style=\"color: #7fbf7f; text-decoration-color: #7fbf7f\">│   </span><span style=\"font-weight: bold\">(</span><span style=\"color: #008080; text-decoration-color: #008080; font-weight: bold\">0.8463578705769216</span>, <span style=\"color: #008000; text-decoration-color: #008000\">'\"Which is the best external hard drive to buy?\"'</span>, <span style=\"font-weight: bold\">{})</span>,\n",
       "<span style=\"color: #7fbf7f; text-decoration-color: #7fbf7f\">│   </span><span style=\"font-weight: bold\">(</span><span style=\"color: #008080; text-decoration-color: #008080; font-weight: bold\">0.8406398640938563</span>, <span style=\"color: #008000; text-decoration-color: #008000\">'\"What are some examples of good UI/UX design for a b2b web app?\"'</span>, <span style=\"font-weight: bold\">{})</span>,\n",
       "<span style=\"color: #7fbf7f; text-decoration-color: #7fbf7f\">│   </span><span style=\"font-weight: bold\">(</span><span style=\"color: #008080; text-decoration-color: #008080; font-weight: bold\">0.8346258500173657</span>, <span style=\"color: #008000; text-decoration-color: #008000\">'\"What is the best URL shortener?\"'</span>, <span style=\"font-weight: bold\">{})</span>,\n",
       "<span style=\"color: #7fbf7f; text-decoration-color: #7fbf7f\">│   </span><span style=\"font-weight: bold\">(</span><span style=\"color: #008080; text-decoration-color: #008080; font-weight: bold\">0.8329401638921033</span>, <span style=\"color: #008000; text-decoration-color: #008000\">'\"What are the best websites to visit?\"'</span>, <span style=\"font-weight: bold\">{})</span>,\n",
       "<span style=\"color: #7fbf7f; text-decoration-color: #7fbf7f\">│   </span><span style=\"font-weight: bold\">(</span><span style=\"color: #008080; text-decoration-color: #008080; font-weight: bold\">0.8306100248499346</span>, <span style=\"color: #008000; text-decoration-color: #008000\">'\"What are the best IDEs for development with Codeigniter?\"'</span>, <span style=\"font-weight: bold\">{})</span>\n",
       "<span style=\"font-weight: bold\">]</span>\n",
       "</pre>\n"
      ],
      "text/plain": [
       "\u001b[1m[\u001b[0m\n",
       "\u001b[2;32m│   \u001b[0m\u001b[1m(\u001b[0m\u001b[1;36m0.8463578705769216\u001b[0m, \u001b[32m'\"Which is the best external hard drive to buy?\"'\u001b[0m, \u001b[1m{\u001b[0m\u001b[1m}\u001b[0m\u001b[1m)\u001b[0m,\n",
       "\u001b[2;32m│   \u001b[0m\u001b[1m(\u001b[0m\u001b[1;36m0.8406398640938563\u001b[0m, \u001b[32m'\"What are some examples of good UI/UX design for a b2b web app?\"'\u001b[0m, \u001b[1m{\u001b[0m\u001b[1m}\u001b[0m\u001b[1m)\u001b[0m,\n",
       "\u001b[2;32m│   \u001b[0m\u001b[1m(\u001b[0m\u001b[1;36m0.8346258500173657\u001b[0m, \u001b[32m'\"What is the best URL shortener?\"'\u001b[0m, \u001b[1m{\u001b[0m\u001b[1m}\u001b[0m\u001b[1m)\u001b[0m,\n",
       "\u001b[2;32m│   \u001b[0m\u001b[1m(\u001b[0m\u001b[1;36m0.8329401638921033\u001b[0m, \u001b[32m'\"What are the best websites to visit?\"'\u001b[0m, \u001b[1m{\u001b[0m\u001b[1m}\u001b[0m\u001b[1m)\u001b[0m,\n",
       "\u001b[2;32m│   \u001b[0m\u001b[1m(\u001b[0m\u001b[1;36m0.8306100248499346\u001b[0m, \u001b[32m'\"What are the best IDEs for development with Codeigniter?\"'\u001b[0m, \u001b[1m{\u001b[0m\u001b[1m}\u001b[0m\u001b[1m)\u001b[0m\n",
       "\u001b[1m]\u001b[0m\n"
      ]
     },
     "metadata": {},
     "output_type": "display_data"
    },
    {
     "data": {
      "text/html": [
       "<pre style=\"white-space:pre;overflow-x:auto;line-height:normal;font-family:Menlo,'DejaVu Sans Mono',consolas,'Courier New',monospace\"><span style=\"color: #008000; text-decoration-color: #008000\">'Query time = 0.867'</span>\n",
       "</pre>\n"
      ],
      "text/plain": [
       "\u001b[32m'Query time = 0.867'\u001b[0m\n"
      ]
     },
     "metadata": {},
     "output_type": "display_data"
    }
   ],
   "source": [
    "start = time()\n",
    "query = \"What is a good mobile os?\"\n",
    "result = await collection.vector_search(query)\n",
    "_end = time()\n",
    "pprint(result)\n",
    "pprint(\"Query time = %0.3f\" % (_end - start))"
   ]
  },
  {
   "cell_type": "code",
   "execution_count": 18,
   "metadata": {},
   "outputs": [
    {
     "data": {
      "text/html": [
       "<pre style=\"white-space:pre;overflow-x:auto;line-height:normal;font-family:Menlo,'DejaVu Sans Mono',consolas,'Courier New',monospace\">Query using query builder ..\n",
       "</pre>\n"
      ],
      "text/plain": [
       "Query using query builder ..\n"
      ]
     },
     "metadata": {},
     "output_type": "display_data"
    },
    {
     "data": {
      "text/html": [
       "<pre style=\"white-space:pre;overflow-x:auto;line-height:normal;font-family:Menlo,'DejaVu Sans Mono',consolas,'Courier New',monospace\">\n",
       "<span style=\"font-weight: bold\">Results for </span><span style=\"color: #008000; text-decoration-color: #008000\">'What is a good mobile os?'</span>\n",
       "</pre>\n"
      ],
      "text/plain": [
       "\n",
       "\u001b[1mResults for \u001b[0m\u001b[32m'What is a good mobile os?'\u001b[0m\n"
      ]
     },
     "metadata": {},
     "output_type": "display_data"
    },
    {
     "data": {
      "text/html": [
       "<pre style=\"white-space:pre;overflow-x:auto;line-height:normal;font-family:Menlo,'DejaVu Sans Mono',consolas,'Courier New',monospace\"><span style=\"font-weight: bold\">[</span>\n",
       "    <span style=\"font-weight: bold\">(</span><span style=\"color: #008080; text-decoration-color: #008080; font-weight: bold\">0.8463578705769216</span>, <span style=\"color: #008000; text-decoration-color: #008000\">'\"Which is the best external hard drive to buy?\"'</span>, <span style=\"font-weight: bold\">{})</span>,\n",
       "    <span style=\"font-weight: bold\">(</span><span style=\"color: #008080; text-decoration-color: #008080; font-weight: bold\">0.8406398640938563</span>, <span style=\"color: #008000; text-decoration-color: #008000\">'\"What are some examples of good UI/UX design for a b2b web app?\"'</span>, <span style=\"font-weight: bold\">{})</span>,\n",
       "    <span style=\"font-weight: bold\">(</span><span style=\"color: #008080; text-decoration-color: #008080; font-weight: bold\">0.8346258500173657</span>, <span style=\"color: #008000; text-decoration-color: #008000\">'\"What is the best URL shortener?\"'</span>, <span style=\"font-weight: bold\">{})</span>,\n",
       "    <span style=\"font-weight: bold\">(</span><span style=\"color: #008080; text-decoration-color: #008080; font-weight: bold\">0.8329401638921033</span>, <span style=\"color: #008000; text-decoration-color: #008000\">'\"What are the best websites to visit?\"'</span>, <span style=\"font-weight: bold\">{})</span>,\n",
       "    <span style=\"font-weight: bold\">(</span><span style=\"color: #008080; text-decoration-color: #008080; font-weight: bold\">0.8306100248499346</span>, <span style=\"color: #008000; text-decoration-color: #008000\">'\"What are the best IDEs for development with Codeigniter?\"'</span>, <span style=\"font-weight: bold\">{})</span>\n",
       "<span style=\"font-weight: bold\">]</span>\n",
       "</pre>\n"
      ],
      "text/plain": [
       "\u001b[1m[\u001b[0m\n",
       "    \u001b[1m(\u001b[0m\u001b[1;36m0.8463578705769216\u001b[0m, \u001b[32m'\"Which is the best external hard drive to buy?\"'\u001b[0m, \u001b[1m{\u001b[0m\u001b[1m}\u001b[0m\u001b[1m)\u001b[0m,\n",
       "    \u001b[1m(\u001b[0m\u001b[1;36m0.8406398640938563\u001b[0m, \u001b[32m'\"What are some examples of good UI/UX design for a b2b web app?\"'\u001b[0m, \u001b[1m{\u001b[0m\u001b[1m}\u001b[0m\u001b[1m)\u001b[0m,\n",
       "    \u001b[1m(\u001b[0m\u001b[1;36m0.8346258500173657\u001b[0m, \u001b[32m'\"What is the best URL shortener?\"'\u001b[0m, \u001b[1m{\u001b[0m\u001b[1m}\u001b[0m\u001b[1m)\u001b[0m,\n",
       "    \u001b[1m(\u001b[0m\u001b[1;36m0.8329401638921033\u001b[0m, \u001b[32m'\"What are the best websites to visit?\"'\u001b[0m, \u001b[1m{\u001b[0m\u001b[1m}\u001b[0m\u001b[1m)\u001b[0m,\n",
       "    \u001b[1m(\u001b[0m\u001b[1;36m0.8306100248499346\u001b[0m, \u001b[32m'\"What are the best IDEs for development with Codeigniter?\"'\u001b[0m, \u001b[1m{\u001b[0m\u001b[1m}\u001b[0m\u001b[1m)\u001b[0m\n",
       "\u001b[1m]\u001b[0m\n"
      ]
     },
     "metadata": {},
     "output_type": "display_data"
    },
    {
     "data": {
      "text/html": [
       "<pre style=\"white-space:pre;overflow-x:auto;line-height:normal;font-family:Menlo,'DejaVu Sans Mono',consolas,'Courier New',monospace\">Query time = <span style=\"color: #008080; text-decoration-color: #008080; font-weight: bold\">0.466</span>\n",
       "</pre>\n"
      ],
      "text/plain": [
       "Query time = \u001b[1;36m0.466\u001b[0m\n"
      ]
     },
     "metadata": {},
     "output_type": "display_data"
    }
   ],
   "source": [
    "start = time()\n",
    "console.print(\"Query using query builder ..\")\n",
    "query = \"What is a good mobile os?\"\n",
    "result = await collection.query().vector_recall(query).limit(5).run()\n",
    "_end = time()\n",
    "\n",
    "console.print(\"\\nResults for '%s'\" % (query), style=\"bold\")\n",
    "console.print(result)\n",
    "console.print(\"Query time = %0.3f\" % (_end - start))"
   ]
  },
  {
   "cell_type": "code",
   "execution_count": 19,
   "metadata": {},
   "outputs": [],
   "source": [
    "await collection.generate_tsvectors('english')"
   ]
  },
  {
   "cell_type": "code",
   "execution_count": 35,
   "metadata": {},
   "outputs": [
    {
     "data": {
      "text/plain": [
       "[(0.8406398640938563,\n",
       "  '\"What are some examples of good UI/UX design for a b2b web app?\"',\n",
       "  {}),\n",
       " (0.8217760413996846,\n",
       "  '\"What do you use as a note taking, brainstorming, web clip-keeping application on the Mac?\"',\n",
       "  {}),\n",
       " (0.8120549943123971, '\"How does WhatsApp web work?\"', {})]"
      ]
     },
     "execution_count": 35,
     "metadata": {},
     "output_type": "execute_result"
    }
   ],
   "source": [
    "result = await collection.query().vector_recall(query).filter_full_text(\"web\").limit(10).run()\n",
    "result"
   ]
  },
  {
   "cell_type": "code",
   "execution_count": null,
   "metadata": {},
   "outputs": [],
   "source": []
  }
 ],
 "metadata": {
  "kernelspec": {
   "display_name": "venv",
   "language": "python",
   "name": "python3"
  },
  "language_info": {
   "codemirror_mode": {
    "name": "ipython",
    "version": 3
   },
   "file_extension": ".py",
   "mimetype": "text/x-python",
   "name": "python",
   "nbconvert_exporter": "python",
   "pygments_lexer": "ipython3",
   "version": "3.11.4"
  },
  "orig_nbformat": 4
 },
 "nbformat": 4,
 "nbformat_minor": 2
}
