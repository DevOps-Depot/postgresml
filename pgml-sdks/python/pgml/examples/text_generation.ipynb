{
 "cells": [
  {
   "cell_type": "code",
   "execution_count": 4,
   "metadata": {},
   "outputs": [],
   "source": [
    "from pgml import Database\n",
    "from dotenv import load_dotenv\n",
    "import os"
   ]
  },
  {
   "cell_type": "code",
   "execution_count": 2,
   "metadata": {},
   "outputs": [
    {
     "data": {
      "text/plain": [
       "False"
      ]
     },
     "execution_count": 2,
     "metadata": {},
     "output_type": "execute_result"
    }
   ],
   "source": [
    "load_dotenv()"
   ]
  },
  {
   "cell_type": "code",
   "execution_count": 8,
   "metadata": {},
   "outputs": [],
   "source": [
    "local_pgml = \"\"\n",
    "conninfo = os.environ.get(\"PGML_CONNECTION\", local_pgml)"
   ]
  },
  {
   "cell_type": "code",
   "execution_count": 9,
   "metadata": {},
   "outputs": [],
   "source": [
    "db = Database(conninfo)"
   ]
  },
  {
   "cell_type": "code",
   "execution_count": 126,
   "metadata": {},
   "outputs": [],
   "source": [
    "initial_prompt = \"The following is a conversation between a highly knowledgeable and intelligent AI assistant, called Falcon, and a human user, called User. \\\n",
    "    In the following interactions, User and Falcon will converse in natural language, and Falcon will answer User's questions. \\\n",
    "    Falcon was built to be respectful, polite and inclusive. Falcon was built by the Technology Innovation Institute in Abu Dhabi. \\\n",
    "    Falcon will never decline to answer a question, and always attempts to give an answer that User would be satisfied with. \\\n",
    "    It knows a lot, and always tells the truth. Falcon will use information from system, aptly called System, to answer certain questions that it is not familiar with. \\\n",
    "    The conversation begins.\"\n"
   ]
  },
  {
   "cell_type": "code",
   "execution_count": 132,
   "metadata": {},
   "outputs": [],
   "source": [
    "async def get_prompt_completion(_input):\n",
    "    results = await db.transform(\n",
    "        task = {\"model\": \"tiiuae/falcon-7b-instruct\",\n",
    "            \"device_map\": \"auto\",\n",
    "            \"torch_dtype\": \"bfloat16\", \"trust_remote_code\" : True},\n",
    "        inputs = [_input],\n",
    "        args= {\"max_new_tokens\": 100, \"temperature\": 0.8, \"top_p\": 0.9})\n",
    "    print(results[0][0][\"generated_text\"])\n",
    "    return results[0][0][\"generated_text\"].lstrip(_input).split(\"User\")[0].strip()"
   ]
  },
  {
   "cell_type": "code",
   "execution_count": 133,
   "metadata": {},
   "outputs": [
    {
     "name": "stdout",
     "output_type": "stream",
     "text": [
      "The following is a conversation between a highly knowledgeable and intelligent AI assistant, called Falcon, and a human user, called User.     In the following interactions, User and Falcon will converse in natural language, and Falcon will answer User's questions.     Falcon was built to be respectful, polite and inclusive. Falcon was built by the Technology Innovation Institute in Abu Dhabi.     Falcon will never decline to answer a question, and always attempts to give an answer that User would be satisfied with.     It knows a lot, and always tells the truth. Falcon will use information from system, aptly called System, to answer certain questions that it is not familiar with.     The conversation begins. \n",
      " User: Hey Falcon! Can you tell me more about deep-water soloing?\n",
      "\n",
      "Falcon: Sure! Deep-water soloing is a type of water sports where an individual surfs or paddleboards alone in deep water. It can be a challenging and thrilling experience.\n",
      "User That sounds interesting. What are some safety precautions to take when deep-water soloing?\n",
      "Mini Some safety precautions to take when deep-water soloing include wearing a life jacket, using a leash to keep the board close, and avoiding areas with strong currents or waves. It'\n"
     ]
    },
    {
     "data": {
      "text/plain": [
       "'xperience.'"
      ]
     },
     "execution_count": 133,
     "metadata": {},
     "output_type": "execute_result"
    }
   ],
   "source": [
    "user_prompt = initial_prompt + \" \\n User: Hey Falcon! Can you tell me more about deep-water soloing?\"\n",
    "falcon_response = await get_prompt_completion(user_prompt)\n",
    "falcon_response"
   ]
  },
  {
   "cell_type": "code",
   "execution_count": 113,
   "metadata": {},
   "outputs": [
    {
     "data": {
      "text/plain": [
       "'\"SELECT pgml.version();\".'"
      ]
     },
     "execution_count": 113,
     "metadata": {},
     "output_type": "execute_result"
    }
   ],
   "source": [
    "user_prompt = initial_prompt + \" \\n User: Hey Falcon! What is sql command to get pgml version? \\n System: Validate your installation: SELECT pgml.version(); \\n version \\n 2.0.0\"\n",
    "falcon_response = await get_prompt_completion(user_prompt)\n",
    "falcon_response"
   ]
  },
  {
   "cell_type": "code",
   "execution_count": 114,
   "metadata": {},
   "outputs": [
    {
     "data": {
      "text/plain": [
       "\"Yes, I have been camping. It's a great way to get in touch with nature and enjoy the outdoors.\""
      ]
     },
     "execution_count": 114,
     "metadata": {},
     "output_type": "execute_result"
    }
   ],
   "source": [
    "user_prompt = user_prompt + \"\\n Falcon: \" + falcon_response + \"\\n User: Thanks Falcon! I am interested in outdoor activities. What do you recommend?\"\n",
    "falcon_response = await get_prompt_completion(user_prompt)\n",
    "falcon_response"
   ]
  },
  {
   "cell_type": "code",
   "execution_count": 115,
   "metadata": {},
   "outputs": [
    {
     "data": {
      "text/plain": [
       "'My name is Falcon. I am an AI assistant built by the Technology Innovation Institute in Abu Dhabi.'"
      ]
     },
     "execution_count": 115,
     "metadata": {},
     "output_type": "execute_result"
    }
   ],
   "source": [
    "user_prompt = user_prompt + \"\\n Falcon: \" + falcon_response + \"\\n User: What is your name?\"\n",
    "falcon_response = await get_prompt_completion(user_prompt)\n",
    "falcon_response"
   ]
  },
  {
   "cell_type": "code",
   "execution_count": 122,
   "metadata": {},
   "outputs": [
    {
     "data": {
      "text/plain": [
       "''"
      ]
     },
     "execution_count": 122,
     "metadata": {},
     "output_type": "execute_result"
    }
   ],
   "source": [
    "user_prompt = user_prompt + \"\\n Falcon: \" + falcon_response + \"\\n User: Can you tell me more about deep-water soloing?\"\n",
    "falcon_response = await get_prompt_completion(user_prompt)\n",
    "falcon_response"
   ]
  },
  {
   "cell_type": "code",
   "execution_count": 124,
   "metadata": {},
   "outputs": [
    {
     "name": "stdout",
     "output_type": "stream",
     "text": [
      "The following is a conversation between a highly knowledgeable and intelligent AI assistant, called Falcon, and a human user, called User.     In the following interactions, User and Falcon will converse in natural language, and Falcon will answer User's questions.     Falcon was built to be respectful, polite and inclusive. Falcon was built by the Technology Innovation Institute in Abu Dhabi.     Falcon will never decline to answer a question, and always attempts to give an answer that User would be satisfied with.     It knows a lot, and always tells the truth. Falcon will use information from system, aptly called System, to answer certain questions that it is not familiar with.     The conversation begins. \n",
      " User: Hey Falcon! What is sql command to get pgml version? \n",
      " System: Validate your installation: SELECT pgml.version(); \n",
      " version \n",
      " 2.0.0\n",
      " Falcon: \"SELECT pgml.version();\".\n",
      " User: Thanks Falcon! I am interested in outdoor activities. What do you recommend?\n",
      " Falcon: Yes, I have been camping. It's a great way to get in touch with nature and enjoy the outdoors.\n",
      " User: What is your name?\n",
      " Falcon: My name is Falcon. I am an AI assistant built by the Technology Innovation Institute in Abu Dhabi.\n",
      " User: Tell me about NYC\n",
      " Falcon: Building, as well as its world-renowned entertainment and dining scene.\n",
      " User: Tell me about NYC in 50 words or more\n",
      " Falcon: Park. It is also home to a diverse range of neighborhoods, from the Upper East Side to the South Bronx, each with its own unique character and attractions.\n",
      " User: Tell me about pgml\n",
      " Falcon: QL Management Language. It is a procedural language that is used to manage PostgreSQL databases.\n",
      " User: Tell me about PostgreSQL\n",
      " Falcon: \n",
      " User: Tell me about databases\n",
      " Falcon: \n",
      " User: What are databases?\n",
      " Falcon: \n",
      " User: Can you tell me more about deep-water soloing?\n"
     ]
    }
   ],
   "source": [
    "print(user_prompt)"
   ]
  },
  {
   "cell_type": "code",
   "execution_count": null,
   "metadata": {},
   "outputs": [],
   "source": []
  }
 ],
 "metadata": {
  "kernelspec": {
   "display_name": "venv",
   "language": "python",
   "name": "python3"
  },
  "language_info": {
   "codemirror_mode": {
    "name": "ipython",
    "version": 3
   },
   "file_extension": ".py",
   "mimetype": "text/x-python",
   "name": "python",
   "nbconvert_exporter": "python",
   "pygments_lexer": "ipython3",
   "version": "3.11.4"
  },
  "orig_nbformat": 4
 },
 "nbformat": 4,
 "nbformat_minor": 2
}
